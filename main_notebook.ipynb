{
  "nbformat": 4,
  "nbformat_minor": 0,
  "metadata": {
    "colab": {
      "provenance": [],
      "collapsed_sections": [
        "arUK3Kaz7gEh"
      ],
      "mount_file_id": "1VzzMuuL_27vRkJRYZ7aIzpHZUQyRnqXV",
      "authorship_tag": "ABX9TyNRkplILbMdjMesANUTLDYR",
      "include_colab_link": true
    },
    "kernelspec": {
      "name": "python3",
      "display_name": "Python 3"
    },
    "language_info": {
      "name": "python"
    }
  },
  "cells": [
    {
      "cell_type": "markdown",
      "metadata": {
        "id": "view-in-github",
        "colab_type": "text"
      },
      "source": [
        "<a href=\"https://colab.research.google.com/github/ToyzZone/Neural-Network-with-Keras/blob/main/main_notebook.ipynb\" target=\"_parent\"><img src=\"https://colab.research.google.com/assets/colab-badge.svg\" alt=\"Open In Colab\"/></a>"
      ]
    },
    {
      "cell_type": "markdown",
      "source": [
        "#Assignment:\n",
        "\n",
        "### **A. Build a baseline model (5 marks) **\n",
        "\n",
        "Use the Keras library to build a neural network with the following:\n",
        "\n",
        "- One hidden layer of 10 nodes, and a ReLU activation function\n",
        "\n",
        "- Use the adam optimizer and the mean squared error  as the loss function.\n",
        "\n",
        "1. Randomly split the data into a training and test sets by holding 30% of the data for testing. You can use the train_test_splithelper function from Scikit-learn.\n",
        "\n",
        "2. Train the model on the training data using 50 epochs.\n",
        "\n",
        "3. Evaluate the model on the test data and compute the mean squared error between the predicted concrete strength and the actual concrete strength. You can use the mean_squared_error function from Scikit-learn.\n",
        "\n",
        "4. Repeat steps 1 - 3, 50 times, i.e., create a list of 50 mean squared errors.\n",
        "\n",
        "5. Report the mean and the standard deviation of the mean squared errors.\n",
        "\n",
        "Submit your Jupyter Notebook with your code and comments.\n",
        "\n",
        "> Indented block\n",
        "\n",
        "### **B. Normalize the data (5 marks) **\n",
        "\n",
        "Repeat Part A but use a normalized version of the data. Recall that one way to normalize the data is by subtracting the mean from the individual predictors and dividing by the standard deviation.\n",
        "\n",
        "How does the mean of the mean squared errors compare to that from Step A?\n",
        "\n",
        "> Indented block\n",
        "\n",
        "### **C. Increate the number of epochs (5 marks)**\n",
        "\n",
        "Repeat Part B but use 100 epochs this time for training.\n",
        "\n",
        "How does the mean of the mean squared errors compare to that from Step B?\n",
        "\n",
        "> Indented block\n",
        "\n",
        "### **D. Increase the number of hidden layers (5 marks)**\n",
        "\n",
        "Repeat part B but use a neural network with the following instead:\n",
        "\n",
        "Three hidden layers, each of 10 nodes and ReLU activation function.\n",
        "\n",
        "How does the mean of the mean squared errors compare to that from Step B?"
      ],
      "metadata": {
        "id": "1ohSA9iP5LOI"
      }
    },
    {
      "cell_type": "markdown",
      "source": [
        "# **Part A:**\n"
      ],
      "metadata": {
        "id": "_gdMAxeC6CN0"
      }
    },
    {
      "cell_type": "markdown",
      "source": [
        "## Step 1: Import the libraries "
      ],
      "metadata": {
        "id": "AHnDe8sq6Rt5"
      }
    },
    {
      "cell_type": "code",
      "execution_count": null,
      "metadata": {
        "id": "YjcKBxB2uzM6"
      },
      "outputs": [],
      "source": [
        "import numpy as np\n",
        "import pandas as pd\n",
        "from sklearn.model_selection import train_test_split\n",
        "from keras.models import Sequential\n",
        "from keras.layers import Dense\n",
        "from sklearn.metrics import mean_squared_error"
      ]
    },
    {
      "cell_type": "markdown",
      "source": [
        "## Step 2: Import the data"
      ],
      "metadata": {
        "id": "a1zuOtl364oo"
      }
    },
    {
      "cell_type": "code",
      "source": [
        "df = pd.read_csv('https://s3-api.us-geo.objectstorage.softlayer.net/cf-courses-data/CognitiveClass/DL0101EN/labs/data/concrete_data.csv')\n",
        "print(df.head())\n",
        "print(df.shape)"
      ],
      "metadata": {
        "id": "h6Ak9160vbB0"
      },
      "execution_count": null,
      "outputs": []
    },
    {
      "cell_type": "code",
      "source": [
        "features = ['Cement',\n",
        "            'Blast Furnace Slag',\n",
        "            'Fly Ash',\n",
        "            'Water',\n",
        "            'Superplasticizer',\n",
        "            'Coarse Aggregate',\n",
        "            'Fine Aggregate',\n",
        "            'Age',\n",
        "]\n",
        "target = 'Strength'\n",
        "\n",
        "X = df[features]\n",
        "y = df[target]\n",
        "\n",
        "X_train, X_test, y_train, y_test = train_test_split(X, y, test_size = 0.3, random_state = 0)"
      ],
      "metadata": {
        "id": "9GzvL5kav48C"
      },
      "execution_count": null,
      "outputs": []
    },
    {
      "cell_type": "code",
      "source": [
        "n_cols = X.shape[1]"
      ],
      "metadata": {
        "id": "2D15G4kZzH9q"
      },
      "execution_count": null,
      "outputs": []
    },
    {
      "cell_type": "markdown",
      "source": [
        "## Step 3: Define the model"
      ],
      "metadata": {
        "id": "leGp5BjI7OYR"
      }
    },
    {
      "cell_type": "code",
      "source": [
        "def regression_model():\n",
        "\n",
        "  model = Sequential()\n",
        "  model.add(Dense(10, activation='relu', input_shape=(n_cols,)))\n",
        "  model.add(Dense(1))\n",
        "  \n",
        "  model.compile(optimizer='adam', loss='mean_squared_error')\n",
        "  return model\n"
      ],
      "metadata": {
        "id": "-dARrsgrw3z_"
      },
      "execution_count": null,
      "outputs": []
    },
    {
      "cell_type": "markdown",
      "source": [
        "## Step 4: Fit the model"
      ],
      "metadata": {
        "id": "QVidPkjZ7YUo"
      }
    },
    {
      "cell_type": "code",
      "source": [
        "error_list = []\n",
        "loop_range = range(0,50)\n",
        "\n",
        "for loop in loop_range:\n",
        "  X_train, X_test, y_train, y_test = train_test_split(X, y, test_size = 0.3, random_state = loop)\n",
        "  model = regression_model()\n",
        "  model.fit(X_train, y_train, epochs=50, verbose = 1)\n",
        "  error = mean_squared_error(model.predict(X_test),y_test)\n",
        "  error_list.append(error)\n",
        "\n",
        "print(len(error_list))\n"
      ],
      "metadata": {
        "id": "SXwO0mdQ2qeE"
      },
      "execution_count": null,
      "outputs": []
    },
    {
      "cell_type": "markdown",
      "source": [
        "## Step 5: Report the mean and standard deviation of the mean squared error"
      ],
      "metadata": {
        "id": "arUK3Kaz7gEh"
      }
    },
    {
      "cell_type": "code",
      "source": [
        "print(f'The mean and the standard deviation of the mean squared error are: {np.mean(error_list)} and {np.std(error_list)} accordingly')"
      ],
      "metadata": {
        "colab": {
          "base_uri": "https://localhost:8080/"
        },
        "id": "Mlbf27P-4LH_",
        "outputId": "9037717e-35e0-47a6-ce7c-10043fb18f00"
      },
      "execution_count": null,
      "outputs": [
        {
          "output_type": "stream",
          "name": "stdout",
          "text": [
            "The mean and the standard deviation of the mean squared error are: 385.814263356605 and 455.5924351750894 accordingly\n"
          ]
        }
      ]
    },
    {
      "cell_type": "markdown",
      "source": [
        "# Part B"
      ],
      "metadata": {
        "id": "2M8YrLym8Mzr"
      }
    },
    {
      "cell_type": "markdown",
      "source": [
        "## Step 1: Normalize X"
      ],
      "metadata": {
        "id": "h6Suack28Z2M"
      }
    },
    {
      "cell_type": "code",
      "source": [
        "X_norm = (X - X.mean())/X.std()\n",
        "print(X_norm.head())"
      ],
      "metadata": {
        "id": "zP8ZjK2Q8dF7"
      },
      "execution_count": null,
      "outputs": []
    },
    {
      "cell_type": "markdown",
      "source": [
        "## Step 2: Fit the data"
      ],
      "metadata": {
        "id": "8lfzlEaa9aZp"
      }
    },
    {
      "cell_type": "code",
      "source": [
        "error_list = []\n",
        "loop_range = range(0,50)\n",
        "\n",
        "for loop in loop_range:\n",
        "  X_norm_train, X_norm_test, y_train, y_test = train_test_split(X_norm, y, test_size = 0.3, random_state = loop)\n",
        "  model = regression_model()\n",
        "  model.fit(X_norm_train, y_train, epochs=50, verbose = 1)\n",
        "  error = mean_squared_error(model.predict(X_norm_test),y_test)\n",
        "  error_list.append(error)\n",
        "\n",
        "print(len(error_list))"
      ],
      "metadata": {
        "id": "iNsLRnzq9h11"
      },
      "execution_count": null,
      "outputs": []
    },
    {
      "cell_type": "markdown",
      "source": [
        "## Step 3: Report and compare the mean and standard deviation of the mean squarred error"
      ],
      "metadata": {
        "id": "1IaeUnjE9--G"
      }
    },
    {
      "cell_type": "code",
      "source": [
        "print(f'The mean and the standard deviation of the mean squared error are: {np.mean(error_list)} and {np.std(error_list)} accordingly')"
      ],
      "metadata": {
        "colab": {
          "base_uri": "https://localhost:8080/"
        },
        "id": "AZI273Nx-GOh",
        "outputId": "2fba67a2-8175-48ce-a46f-7fb588ab8abc"
      },
      "execution_count": null,
      "outputs": [
        {
          "output_type": "stream",
          "name": "stdout",
          "text": [
            "The mean and the standard deviation of the mean squared error are: 340.8393837853636 and 77.9709760559999 accordingly\n"
          ]
        }
      ]
    },
    {
      "cell_type": "markdown",
      "source": [
        "So the mean is similar with the original data, however the standard deviation is significantly smaller, indicating that the errors are closer to each other -> the result is more consistent "
      ],
      "metadata": {
        "id": "sNEzb7HW_CmP"
      }
    },
    {
      "cell_type": "markdown",
      "source": [
        "# Part C"
      ],
      "metadata": {
        "id": "RaW36SlX_0ss"
      }
    },
    {
      "cell_type": "markdown",
      "source": [
        "## Step 1: Refit the model with 100 epochs"
      ],
      "metadata": {
        "id": "HEo35-Yo_81e"
      }
    },
    {
      "cell_type": "code",
      "source": [
        "error_list = []\n",
        "loop_range = range(0,50)\n",
        "\n",
        "for loop in loop_range:\n",
        "  X_norm_train, X_norm_test, y_train, y_test = train_test_split(X_norm, y, test_size = 0.3, random_state = loop)\n",
        "  model = regression_model()\n",
        "  model.fit(X_norm_train, y_train, epochs=100, verbose = 1)\n",
        "  error = mean_squared_error(model.predict(X_norm_test),y_test)\n",
        "  error_list.append(error)\n",
        "\n",
        "print(len(error_list))"
      ],
      "metadata": {
        "id": "zvAOtE4HAF8L"
      },
      "execution_count": null,
      "outputs": []
    },
    {
      "cell_type": "markdown",
      "source": [
        "## Step 2: Report and compare the mean and standard deviation of the mean squarred error"
      ],
      "metadata": {
        "id": "qwrehgd2AYc_"
      }
    },
    {
      "cell_type": "code",
      "source": [
        "print(f'The mean and the standard deviation of the mean squared error are: {np.mean(error_list)} and {np.std(error_list)} accordingly')"
      ],
      "metadata": {
        "colab": {
          "base_uri": "https://localhost:8080/"
        },
        "id": "Bbxu_5qiAhZ0",
        "outputId": "3f88af0f-3cf8-44b8-bb07-dd2d77a6fbc5"
      },
      "execution_count": null,
      "outputs": [
        {
          "output_type": "stream",
          "name": "stdout",
          "text": [
            "The mean and the standard deviation of the mean squared error are: 166.76511517790902 and 19.89137173412904 accordingly\n"
          ]
        }
      ]
    },
    {
      "cell_type": "markdown",
      "source": [
        "The mean error reduces -> more accurate result "
      ],
      "metadata": {
        "id": "IteDXdgpCZVB"
      }
    },
    {
      "cell_type": "markdown",
      "source": [
        "# Part D:"
      ],
      "metadata": {
        "id": "HppDZ0e5Chf6"
      }
    },
    {
      "cell_type": "markdown",
      "source": [
        "## Step 1: Redefine the model with 3 hidden layers, each with 10 nodes"
      ],
      "metadata": {
        "id": "XCid3TYMCpbf"
      }
    },
    {
      "cell_type": "code",
      "source": [
        "def regression_model():\n",
        "\n",
        "  model = Sequential()\n",
        "  model.add(Dense(10, activation='relu', input_shape=(n_cols,)))\n",
        "  model.add(Dense(10, activation='relu'))\n",
        "  model.add(Dense(10, activation='relu'))\n",
        "  model.add(Dense(1))\n",
        "  \n",
        "  model.compile(optimizer='adam', loss='mean_squared_error')\n",
        "  return model"
      ],
      "metadata": {
        "id": "y3kq5O2ACtAf"
      },
      "execution_count": null,
      "outputs": []
    },
    {
      "cell_type": "markdown",
      "source": [
        "## Step 2: Refit the model"
      ],
      "metadata": {
        "id": "waN8Wm5mC-9D"
      }
    },
    {
      "cell_type": "code",
      "source": [
        "error_list = []\n",
        "loop_range = range(0,50)\n",
        "\n",
        "for loop in loop_range:\n",
        "  X_norm_train, X_norm_test, y_train, y_test = train_test_split(X_norm, y, test_size = 0.3, random_state = loop)\n",
        "  model = regression_model()\n",
        "  model.fit(X_norm_train, y_train, epochs=50, verbose = 1)\n",
        "  error = mean_squared_error(model.predict(X_norm_test),y_test)\n",
        "  error_list.append(error)\n",
        "\n",
        "print(len(error_list))"
      ],
      "metadata": {
        "id": "4k8b7K03DBTX"
      },
      "execution_count": null,
      "outputs": []
    },
    {
      "cell_type": "markdown",
      "source": [
        "## Step 3: Report and compare the mean and standard deviation of the mean squarred error\n",
        "\n"
      ],
      "metadata": {
        "id": "9h0GBG44DIP7"
      }
    },
    {
      "cell_type": "code",
      "source": [
        "print(f'The mean and the standard deviation of the mean squared error are: {np.mean(error_list)} and {np.std(error_list)} accordingly')"
      ],
      "metadata": {
        "colab": {
          "base_uri": "https://localhost:8080/"
        },
        "id": "o3VMSorrDKf4",
        "outputId": "55afcdf5-a15b-4fea-fbd9-aba9b5b69dfa"
      },
      "execution_count": null,
      "outputs": [
        {
          "output_type": "stream",
          "name": "stdout",
          "text": [
            "The mean and the standard deviation of the mean squared error are: 125.9796726810112 and 15.765706848960114 accordingly\n"
          ]
        }
      ]
    },
    {
      "cell_type": "markdown",
      "source": [
        "Also reduced."
      ],
      "metadata": {
        "id": "UMAlt9zBGeGS"
      }
    }
  ]
}